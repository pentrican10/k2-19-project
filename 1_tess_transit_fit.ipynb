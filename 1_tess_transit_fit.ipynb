{
 "cells": [
  {
   "cell_type": "markdown",
   "id": "00e226dc-3d03-4ff1-a381-d3d34e774348",
   "metadata": {},
   "source": [
    "# Initial Imports and constants"
   ]
  },
  {
   "cell_type": "code",
   "execution_count": 18,
   "id": "478a44d4-415c-429d-9895-b64f094ea4bd",
   "metadata": {},
   "outputs": [],
   "source": [
    "import numpy as np\n",
    "import matplotlib.pyplot as plt\n",
    "import lightkurve as lk\n",
    "from lightkurve import search_targetpixelfile\n",
    "import pandas as pd\n",
    "import os\n",
    "import batman\n",
    "from scipy.stats import norm\n",
    "import matplotlib\n",
    "import jax.numpy as jnp"
   ]
  },
  {
   "cell_type": "code",
   "execution_count": 19,
   "id": "7205cec8-6583-45d5-bb1f-3672031fa6a9",
   "metadata": {},
   "outputs": [],
   "source": [
    "### Define data directory\n",
    "data_dir = \"/Users/pentrican10/Projects/Data/k2-19-data\"\n",
    "\n",
    "TESS_offset = 2457000\n",
    "petigura_offset = 2454833\n",
    "\n",
    "### switch to mask out transits\n",
    "mask_transits = True\n",
    "\n",
    "### set range for search: [#hours] * [days per hour]\n",
    "ttv_hour = 2* 0.0416667 # 1 hour to days"
   ]
  },
  {
   "cell_type": "code",
   "execution_count": 34,
   "id": "1c96a0ad-022b-4654-89e1-48a2f165fe43",
   "metadata": {},
   "outputs": [
    {
     "name": "stdout",
     "output_type": "stream",
     "text": [
      "Data directory: /Users/pentrican10/Projects/k2-19-project\n"
     ]
    }
   ],
   "source": [
    "import os\n",
    "\n",
    "working_dir = os.getcwd()\n",
    "data_dir = os.path.join(working_dir, \"data\", \"k2-19-data\")\n",
    "print(f\"Data directory: {data_dir}\")\n",
    "print(f\"Data directory: {data_dir}\")"
   ]
  },
  {
   "cell_type": "markdown",
   "id": "116e5d8d-cc6c-496a-9bee-5462a12af1bb",
   "metadata": {},
   "source": [
    "# BLS Fit"
   ]
  },
  {
   "cell_type": "code",
   "execution_count": 20,
   "id": "f8d9414b-865f-47ee-84d7-c6b3d94f38de",
   "metadata": {},
   "outputs": [],
   "source": [
    "# Download the light curve data\n",
    "lc = lk.search_lightcurve(\"K2-19\",author = 'SPOC').download_all()\n",
    "\n",
    "# Flatten the light curve\n",
    "lc = lc.stitch().flatten(window_length=901).remove_outliers()\n",
    "#lc.plot()\n",
    "time = lc.time\n",
    "flux=lc.flux\n",
    "flux_err = lc.flux_err"
   ]
  },
  {
   "cell_type": "code",
   "execution_count": 21,
   "id": "2a68a4b7-7c5a-4a16-b736-78613851a8b8",
   "metadata": {},
   "outputs": [
    {
     "name": "stdout",
     "output_type": "stream",
     "text": [
      "Period from BLS: 7.9204920492049204\n",
      "TC from BLS: 2530.2807708159753\n"
     ]
    }
   ],
   "source": [
    "### perform periodigram for planet b\n",
    "### Create array of periods to search\n",
    "period = np.linspace(1, 20, 10000)\n",
    "\n",
    "### Create a BLSPeriodogram\n",
    "bls = lc.to_periodogram(method='bls', period=period, frequency_factor=500)\n",
    "#bls.plot()\n",
    "\n",
    "period_b_bls = bls.period_at_max_power.value\n",
    "tc_b_bls = bls.transit_time_at_max_power.value\n",
    "dur_b_bls = bls.duration_at_max_power.value\n",
    "\n",
    "print(f'Period from BLS: {period_b_bls}')\n",
    "print(f'TC from BLS: {tc_b_bls}')"
   ]
  },
  {
   "cell_type": "markdown",
   "id": "6a58d92f-cc8f-4728-98b7-45edc45ecffb",
   "metadata": {},
   "source": [
    "# TESS Transit Times"
   ]
  },
  {
   "cell_type": "code",
   "execution_count": 22,
   "id": "5cb27877-ed07-40a8-867c-fc86bb9d3421",
   "metadata": {},
   "outputs": [],
   "source": [
    "from scipy.optimize import minimize\n",
    "from scipy.optimize import root_scalar\n",
    "from scipy.optimize import least_squares\n",
    "from scipy.optimize import curve_fit"
   ]
  },
  {
   "cell_type": "code",
   "execution_count": 23,
   "id": "36f5e9d6-cc67-4b3a-849a-57c3bb9e1c2b",
   "metadata": {},
   "outputs": [
    {
     "name": "stderr",
     "output_type": "stream",
     "text": [
      "/var/folders/69/wlx91x8s1x34mphlfjy0h4pm0000gn/T/ipykernel_69768/3528285165.py:11: FutureWarning: The 'delim_whitespace' keyword in pd.read_csv is deprecated and will be removed in a future version. Use ``sep='\\s+'`` instead\n",
      "  df = pd.read_csv(file_path, delim_whitespace=True, skiprows=22, names=columns)\n"
     ]
    }
   ],
   "source": [
    "### read table from Petigura et al. 2020\n",
    "file = \"ajab5220t1_mrt.txt\"\n",
    "def read_table(file_name):\n",
    "    ### path to table - Petigura et al 2020\n",
    "    file_path = os.path.join(data_dir, file_name)\n",
    "\n",
    "    ### Define the column names \n",
    "    columns = [\"Planet\", \"Transit\", \"Inst\", \"Tc\", \"e_Tc\", \"Source\"]\n",
    "\n",
    "    ### Read the text file, specifying space as the delimiter, skipping model_guess_omc rows\n",
    "    df = pd.read_csv(file_path, delim_whitespace=True, skiprows=22, names=columns)\n",
    "\n",
    "    ### Remove NaN values\n",
    "    df = df.dropna()\n",
    "    return df\n",
    "\n",
    "df = read_table(file)"
   ]
  },
  {
   "cell_type": "code",
   "execution_count": 24,
   "id": "403a3816-9a62-44ba-bb09-c71a7337a922",
   "metadata": {},
   "outputs": [],
   "source": [
    "### params from exoplanet archive\n",
    "per_b = 7.9222\n",
    "rp_b = 0.0777\n",
    "T14_b = 3.237 * 0.0416667  # convert to days\n",
    "b_b = 0.17\n",
    "q1_b = 0.4\n",
    "q2_b = 0.3"
   ]
  },
  {
   "cell_type": "markdown",
   "id": "667ced19-0525-4871-9f88-aaa0c75671ac",
   "metadata": {},
   "source": [
    "### Get lightcurve data from TESS"
   ]
  },
  {
   "cell_type": "code",
   "execution_count": 25,
   "id": "d3285699-6713-4e2a-9d01-35415ac5cb77",
   "metadata": {},
   "outputs": [],
   "source": [
    "### function to convert times from TESS to Petigura offset\n",
    "TESS_offset = 2457000\n",
    "petigura_offset = 2454833\n",
    "def convert_time_t2p(times):\n",
    "    ### TESS offset \n",
    "    BTJD = times + TESS_offset\n",
    "    new_time = BTJD - petigura_offset\n",
    "    return new_time"
   ]
  },
  {
   "cell_type": "code",
   "execution_count": 26,
   "id": "89dd4809-c907-44d8-b69f-967c13ba90a4",
   "metadata": {},
   "outputs": [],
   "source": [
    "### Download the light curve data\n",
    "lc = lk.search_lightcurve(\"K2-19\",author = 'SPOC').download_all()\n",
    "lc = lc.stitch()\n",
    "if mask_transits == True:\n",
    "    ### mask transit times before flattening\n",
    "    #transit_times = [4697.28834658, 4713.12428017, 4721.03972171, 4728.96021376, 4736.88070581, 4744.79614735, 5433.87895563, 5449.71993973]\n",
    "    transit_times = [4697.28834658, 4713.12933068, 4721.03972171, 4728.96021376, 4736.88070581, 4744.80119786, 5433.87895563, 5449.71993973]\n",
    "    masked_lc = lc\n",
    "\n",
    "    times = convert_time_t2p(masked_lc.time.value)\n",
    "\n",
    "    ### Initialize a mask with all False values (i.e., include all data points initially)\n",
    "    mask = np.zeros_like(times, dtype=bool)\n",
    "\n",
    "    ### Iterate through each transit time and update the mask\n",
    "    for transit_time in transit_times:\n",
    "        mask |= (times > (transit_time - T14_b/2)) & (times < (transit_time + T14_b/2))\n",
    "\n",
    "    ### Flatten the masked light curve\n",
    "    masked_lc = masked_lc.flatten(window_length=901, mask=mask).remove_outliers()\n",
    "    lc = masked_lc\n",
    "else:\n",
    "    ### flatten unmasked lightcurve \n",
    "    lc = lc.flatten(window_length=901).remove_outliers()"
   ]
  },
  {
   "cell_type": "markdown",
   "id": "da8d6f18-403c-487e-8afa-86299fd69645",
   "metadata": {},
   "source": [
    "### Fit for transit times"
   ]
  },
  {
   "cell_type": "code",
   "execution_count": 27,
   "id": "6806d4fa-d873-4415-acfd-acb72b4c3a23",
   "metadata": {},
   "outputs": [
    {
     "name": "stdout",
     "output_type": "stream",
     "text": [
      "TC guess(TESS): [4697.28077082 4713.12175491 4721.04224696 4728.96273901 4736.88323106\n",
      " 4744.80372311 5433.88653139 5449.72751549]\n"
     ]
    }
   ],
   "source": [
    "### initialize guess times (using BLS ephem)\n",
    "transit_num = [0,2,3,4,5,6,93,95]\n",
    "\n",
    "tc_guess=[]\n",
    "for num in transit_num:\n",
    "    t = tc_b_bls + (num * period_b_bls)\n",
    "    tc_guess.append(t)\n",
    "\n",
    "### data from lightcurve \n",
    "time_tess = np.array(lc.time.value)\n",
    "flux=np.array(lc.flux)\n",
    "flux_err = np.array(lc.flux_err)\n",
    "\n",
    "time = convert_time_t2p(time_tess)\n",
    "tc_guess = convert_time_t2p(np.array(tc_guess))\n",
    "tc_guess = np.array(tc_guess)\n",
    "print(f'TC guess(TESS): {tc_guess}')"
   ]
  },
  {
   "cell_type": "code",
   "execution_count": 28,
   "id": "671aa537-30b7-4fef-8fca-17a08ed2eba8",
   "metadata": {},
   "outputs": [],
   "source": [
    "### get tc ranges for fit\n",
    "tc = []\n",
    "for i in range(len(tc_guess)):\n",
    "    start = tc_guess[i] - ttv_hour\n",
    "    end = tc_guess[i] + ttv_hour\n",
    "    t = np.linspace(start,end, 1000)\n",
    "    tc.append(t)"
   ]
  },
  {
   "cell_type": "code",
   "execution_count": 29,
   "id": "471b7a7a-ea40-4a9a-9723-aa524a4ab855",
   "metadata": {},
   "outputs": [],
   "source": [
    "### initialize arrays\n",
    "tc_chi = np.zeros(len(tc))\n",
    "tc_chi_parabola = np.zeros(len(tc))\n",
    "ttv = np.zeros(len(tc))\n",
    "ttv_p = np.zeros(len(tc))\n",
    "errors = []\n",
    "errors_p = []"
   ]
  },
  {
   "cell_type": "code",
   "execution_count": 30,
   "id": "2df4f0de-9a30-4dd4-ba4c-5146b91989ae",
   "metadata": {},
   "outputs": [],
   "source": [
    "def omc(obs_time, t_num, p, tc):\n",
    "    calc_time = tc + (t_num* p)\n",
    "    omc = obs_time - calc_time\n",
    "    return omc#*24 #days to hours\n",
    "\n",
    "### Find the intersection points\n",
    "def intersection_func(t): #masked\n",
    "    return np.interp(t, tc1, chi_sq) - err_threshold"
   ]
  },
  {
   "cell_type": "code",
   "execution_count": 31,
   "id": "18e21e50-4646-4c1a-b4a8-709e03b98962",
   "metadata": {},
   "outputs": [],
   "source": [
    "### plot X^2 vs tc for each guess\n",
    "for j in range(len(tc)):\n",
    "    tc1 = tc[j]\n",
    "    chi_sq = np.zeros(len(tc1))\n",
    "    chi_sq_lc = np.zeros(len(tc1))\n",
    "    for i in range(len(tc1)):\n",
    "        t0_b = \ttc1[i]\n",
    "        theta_initial = [t0_b, per_b, rp_b, b_b, T14_b, q1_b, q2_b]\n",
    "        \n",
    "        ### initialize params\n",
    "        params = batman.TransitParams()\n",
    "        params.t0, params.per, params.rp,params.b, params.T14, q1, q2 = theta_initial\n",
    "        params.u = [2*np.sqrt(q1)*q2, np.sqrt(q1)*(1-2*q2)]  # Limb darkening coefficients\n",
    "        params.limb_dark = 'quadratic'\n",
    "        \n",
    "        ### mask data - extract relevant photometry\n",
    "        start = tc_guess[j] - ttv_hour\n",
    "        end = tc_guess[j] + ttv_hour\n",
    "        mask = (time > (start)) & (time < (end))\n",
    "        \n",
    "        transit_model = batman.TransitModel(params, time[mask])\n",
    "            \n",
    "        # Generate model light curve\n",
    "        model_flux = transit_model.light_curve(params)\n",
    "        \n",
    "        # Calculate chi-squared value\n",
    "        sigma2 = flux_err[mask] \n",
    "        chi_squared = np.sum(((flux[mask] - model_flux) / sigma2)**2)\n",
    "        chi_sq[i] = (chi_squared)\n",
    "\n",
    "    ### masked\n",
    "    min_chi_time = tc1[np.argmin(chi_sq)]\n",
    "    min_chi = chi_sq.min()\n",
    "\n",
    "    tc_chi[j] = min_chi_time\n",
    "    idx = transit_num[j]\n",
    "    ttv[j] = min_chi_time - tc_guess[j]\n",
    "\n",
    "    chi_mask = (chi_sq <= min_chi + 3)\n",
    "    fit_mask = (chi_sq <= min_chi + 1)\n",
    "\n",
    "    ### fit parabola to the chisq\n",
    "    p_chi_sq = np.polyfit(tc1[fit_mask], chi_sq[fit_mask], 2)  \n",
    "\n",
    "    ### Extract the coefficients   y = ax^2 + bx + c\n",
    "    a_chi_sq, b_chi_sq, c_chi_sq = p_chi_sq\n",
    "    \n",
    "    ### Find the minimum of the parabola xmin = -b/2a from taking derivative=0\n",
    "    tc_best_fit = -b_chi_sq / (2 * a_chi_sq)\n",
    "    \n",
    "    ### Calculate the minimum chi-squared value\n",
    "    chi_sq_min = a_chi_sq * tc_best_fit**2 + b_chi_sq * tc_best_fit + c_chi_sq\n",
    "    tc_chi_parabola[j] = tc_best_fit\n",
    "\n",
    "    ### Calculate the parabola best fit \n",
    "    p_1 = a_chi_sq*tc1**2 + b_chi_sq*tc1 + c_chi_sq\n",
    "\n",
    "    ### calculate ttv from parabola fit \n",
    "    ttv_p[j] = tc_best_fit - tc_guess[j]\n",
    "\n",
    "    ### delta chisq = 1 gives errors\n",
    "    err_threshold = min_chi + 1 # using chisq discrete minimum\n",
    "    err_threshold_p = chi_sq_min + 1 # using minimum of parabola\n",
    "  \n",
    "    # Find the intersection using root_scalar\n",
    "    intersections = []\n",
    "    for k in range(len(tc1) - 1):\n",
    "        if (chi_sq[k] - err_threshold) * (chi_sq[k + 1] - err_threshold) < 0:\n",
    "            sol = root_scalar(intersection_func, bracket=[tc1[k], tc1[k + 1]])\n",
    "            if sol.converged:\n",
    "                intersections.append((sol.root - min_chi_time))\n",
    "    errors.append(intersections)\n",
    "\n",
    "    intersections_p = []\n",
    "    for k in range(len(tc1) - 1):\n",
    "        if (p_1[k] - err_threshold_p) * (p_1[k + 1] - err_threshold_p) < 0:\n",
    "            sol = root_scalar(intersection_func, bracket=[tc1[k], tc1[k + 1]])\n",
    "            if sol.converged:\n",
    "                intersections_p.append((sol.root - tc_best_fit))\n",
    "    errors_p.append(intersections_p)\n",
    "\n",
    "    # plt.plot(tc1[chi_mask], chi_sq[chi_mask],label='chisq')\n",
    "    # plt.plot(tc1[chi_mask], p_1[chi_mask],label='chisq parabola', color='orange')\n",
    "    # plt.axvline(x=tc_guess[j], color='r', linestyle='--', label='Bls Guess')\n",
    "    # plt.axvline(x=min_chi_time, linestyle='--', label='Chisq min')\n",
    "    # plt.axvline(x=tc1[np.argmin(p_1)], color='orange', linestyle='--', label='Chisq min parabola')\n",
    "\n",
    "    # # for inter in intersections:\n",
    "    # #     plt.axvline(x=inter, color='blue', linestyle='--')\n",
    "    # plt.axhline(y=err_threshold, color='green', linestyle='--', label='Error Threshold')\n",
    "    # plt.title(f'Transit {j+1}: Planet b')\n",
    "    # plt.xlabel('tc')\n",
    "    # plt.ylabel('X^2')\n",
    "    # plt.legend()\n",
    "    # plt.show()"
   ]
  },
  {
   "cell_type": "code",
   "execution_count": 32,
   "id": "12efcdd8-4d50-46b0-bd08-1c27db830d5b",
   "metadata": {},
   "outputs": [],
   "source": [
    "#avg the errors   sig^2 = 0.5(sig1^2 + sig2^2)\n",
    "err_tc_chi = []\n",
    "for i in range(len(errors)):\n",
    "    sig = np.sqrt(errors[i][0]**2 + errors[i][1]**2)\n",
    "    err_tc_chi.append(sig)\n",
    "\n",
    "err_tc_chi_p = []\n",
    "for i in range(len(errors_p)):\n",
    "    sig = np.sqrt(errors_p[i][0]**2 + errors_p[i][1]**2)\n",
    "    err_tc_chi_p.append(sig)"
   ]
  },
  {
   "cell_type": "markdown",
   "id": "9560ab00-3796-4216-b16c-0262356e469a",
   "metadata": {},
   "source": [
    "### Saving Results"
   ]
  },
  {
   "cell_type": "code",
   "execution_count": 33,
   "id": "1d624b0b-bc43-4b1c-ba2a-80e42bc59cef",
   "metadata": {},
   "outputs": [
    {
     "name": "stdout",
     "output_type": "stream",
     "text": [
      "   Planet  Transit     Tc(TESS)    Tc_err  TTV(TESS)  Tc(TESS) Parabola  \\\n",
      "0  k2-19b        0  4697.289029  0.004384   0.008258        4697.288910   \n",
      "1  k2-19b        2  4713.127344  0.002837   0.005589        4713.127453   \n",
      "2  k2-19b        3  4721.041830  0.003013  -0.000417        4721.041738   \n",
      "3  k2-19b        4  4728.959653  0.002993  -0.003086        4728.959826   \n",
      "4  k2-19b        5  4736.880812  0.004142  -0.002419        4736.880952   \n",
      "5  k2-19b        6  4744.798635  0.002808  -0.005088        4744.798760   \n",
      "6  k2-19b       93  5433.878774  0.003929  -0.007758        5433.878892   \n",
      "7  k2-19b       95  5449.720258  0.002277  -0.007257        5449.720286   \n",
      "\n",
      "   Tc_err Parabola  TTV(TESS) Parabola    Time Offset    Period  \\\n",
      "0         0.004375            0.008139  BJD - 2454833  7.920492   \n",
      "1         0.002829            0.005698  BJD - 2454833  7.920492   \n",
      "2         0.003008           -0.000509  BJD - 2454833  7.920492   \n",
      "3         0.002976           -0.002913  BJD - 2454833  7.920492   \n",
      "4         0.004136           -0.002279  BJD - 2454833  7.920492   \n",
      "5         0.002799           -0.004963  BJD - 2454833  7.920492   \n",
      "6         0.003921           -0.007639  BJD - 2454833  7.920492   \n",
      "7         0.002276           -0.007230  BJD - 2454833  7.920492   \n",
      "\n",
      "            Tc_offset  \n",
      "0  2530.2807708159753  \n",
      "1  2530.2807708159753  \n",
      "2  2530.2807708159753  \n",
      "3  2530.2807708159753  \n",
      "4  2530.2807708159753  \n",
      "5  2530.2807708159753  \n",
      "6  2530.2807708159753  \n",
      "7  2530.2807708159753  \n"
     ]
    }
   ],
   "source": [
    "# Initialize empty list for storing results\n",
    "results = []\n",
    "\n",
    "# Loop through the transits and collect the data dynamically\n",
    "for j in range(len(tc)):\n",
    "    transit = transit_num[j]\n",
    "    transit_time = tc_chi[j]\n",
    "    avg_error = err_tc_chi[j]\n",
    "    ttv_value = ttv[j]\n",
    "    transit_time_parabola = tc_chi_parabola[j]\n",
    "    avg_error_parabola = err_tc_chi_p[j]\n",
    "    ttv_value_parabola = ttv_p[j]\n",
    "    \n",
    "    # Create a dictionary for the current row\n",
    "    row = {\n",
    "        'Planet': 'k2-19b',\n",
    "        'Transit': transit,\n",
    "        'Tc(TESS)': transit_time,\n",
    "        'Tc_err': avg_error,\n",
    "        'TTV(TESS)': ttv_value,\n",
    "        'Tc(TESS) Parabola': transit_time_parabola,\n",
    "        'Tc_err Parabola': avg_error_parabola,\n",
    "        'TTV(TESS) Parabola': ttv_value_parabola,\n",
    "        'Time Offset': 'BJD - 2454833',\n",
    "        'Period': period_b_bls,\n",
    "        'Tc_offset': tc_b_bls\n",
    "    }\n",
    "\n",
    "    # Append the row to the results list\n",
    "    results.append(row)\n",
    "\n",
    "# After the loop, create a DataFrame from the results list\n",
    "tess_transit_data = pd.DataFrame(results)\n",
    "\n",
    "# Save the DataFrame to a file named 'tess_times.csv'\n",
    "tess_transit_data.to_csv('tess_transit_data.csv', index=False)\n",
    "\n",
    "# Print the DataFrame to see the collected data\n",
    "print(tess_transit_data)"
   ]
  },
  {
   "cell_type": "code",
   "execution_count": null,
   "id": "dee226f9-9110-459a-9149-9c9a48fbd624",
   "metadata": {},
   "outputs": [],
   "source": []
  }
 ],
 "metadata": {
  "kernelspec": {
   "display_name": "Python 3 (ipykernel)",
   "language": "python",
   "name": "python3"
  },
  "language_info": {
   "codemirror_mode": {
    "name": "ipython",
    "version": 3
   },
   "file_extension": ".py",
   "mimetype": "text/x-python",
   "name": "python",
   "nbconvert_exporter": "python",
   "pygments_lexer": "ipython3",
   "version": "3.12.7"
  }
 },
 "nbformat": 4,
 "nbformat_minor": 5
}
