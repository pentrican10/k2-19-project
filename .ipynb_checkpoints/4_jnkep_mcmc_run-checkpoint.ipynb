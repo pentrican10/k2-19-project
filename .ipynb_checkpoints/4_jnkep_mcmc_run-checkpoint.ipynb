{
 "cells": [
  {
   "cell_type": "code",
   "execution_count": 10,
   "id": "defa7fa0-61d3-4fcf-903c-d41bb7aaa82a",
   "metadata": {},
   "outputs": [
    {
     "name": "stdout",
     "output_type": "stream",
     "text": [
      "# jax device count: 1\n"
     ]
    }
   ],
   "source": [
    "import numpy as np\n",
    "import matplotlib.pyplot as plt\n",
    "import pandas as pd\n",
    "import os\n",
    "from scipy.stats import norm\n",
    "import matplotlib\n",
    "\n",
    "import jax.numpy as jnp\n",
    "from jax import config, random\n",
    "import numpyro, jax\n",
    "import numpyro.distributions as dist\n",
    "from numpyro.infer import MCMC, NUTS, init_to_value\n",
    "config.update('jax_enable_x64', True)\n",
    "numpyro.set_platform('cpu') \n",
    "num_chains = 4\n",
    "numpyro.set_host_device_count(num_chains)\n",
    "print ('# jax device count:', jax.local_device_count())\n",
    "\n",
    "from jnkepler.jaxttv import JaxTTV\n",
    "from jnkepler.jaxttv import ttv_default_parameter_bounds, ttv_optim_curve_fit, scale_pdic\n",
    "import corner"
   ]
  },
  {
   "cell_type": "code",
   "execution_count": 15,
   "id": "5ba88213-50ed-4f2f-849c-1c7461c08771",
   "metadata": {},
   "outputs": [
    {
     "name": "stdout",
     "output_type": "stream",
     "text": [
      "{'period': array([ 7.91977991, 11.90383163]), 'ecosw': array([-0.12634932, -0.08642707]), 'esinw': array([-0.14745586, -0.17554991]), 'tic': array([1980.38363536, 1984.27272814]), 'lnpmass': array([ -9.0762036 , -10.13875893]), 'pmass': Array([1.14354921e-04, 3.95178166e-05], dtype=float64)}\n",
      "{'tic': [array([1980.33403, 1984.22227]), array([1980.43403, 1984.32227])], 'period': [array([ 7.84055446, 11.78382531]), array([ 7.9989495 , 12.02188239])], 'ecosw': [array([-0.25, -0.25]), array([0.24, 0.24])], 'esinw': [array([-0.25, -0.25]), array([0.24, 0.24])], 'lnpmass': [array([-16.11809565, -16.11809565]), array([-6.90775528, -6.90775528])], 'pmass': [array([1.e-07, 1.e-07]), array([0.001, 0.001])]}\n"
     ]
    },
    {
     "data": {
      "text/plain": [
       "['__class__',\n",
       " '__delattr__',\n",
       " '__dict__',\n",
       " '__dir__',\n",
       " '__doc__',\n",
       " '__eq__',\n",
       " '__format__',\n",
       " '__ge__',\n",
       " '__getattribute__',\n",
       " '__getstate__',\n",
       " '__gt__',\n",
       " '__hash__',\n",
       " '__init__',\n",
       " '__init_subclass__',\n",
       " '__le__',\n",
       " '__lt__',\n",
       " '__module__',\n",
       " '__ne__',\n",
       " '__new__',\n",
       " '__reduce__',\n",
       " '__reduce_ex__',\n",
       " '__repr__',\n",
       " '__setattr__',\n",
       " '__sizeof__',\n",
       " '__str__',\n",
       " '__subclasshook__',\n",
       " '__weakref__',\n",
       " 'check_residuals',\n",
       " 'check_timing_precision',\n",
       " 'dt',\n",
       " 'errorobs',\n",
       " 'errorobs_flatten',\n",
       " 'get_transit_times_all',\n",
       " 'get_transit_times_all_list',\n",
       " 'get_transit_times_and_rvs_obs',\n",
       " 'get_transit_times_obs',\n",
       " 'linear_ephemeris',\n",
       " 'nitr_kepler',\n",
       " 'nitr_transit',\n",
       " 'nplanet',\n",
       " 'p_init',\n",
       " 'pidx',\n",
       " 'plot_model',\n",
       " 'sample_means_and_stds',\n",
       " 'set_tcobs',\n",
       " 't_end',\n",
       " 't_start',\n",
       " 'tcall_linear',\n",
       " 'tcobs',\n",
       " 'tcobs_flatten',\n",
       " 'tcobs_linear',\n",
       " 'times',\n",
       " 'transit_time_method']"
      ]
     },
     "execution_count": 15,
     "metadata": {},
     "output_type": "execute_result"
    }
   ],
   "source": [
    "### get the best fit params and param bounds from the 3_jnkep_minimizer_fit file\n",
    "import pickle\n",
    "\n",
    "with open('jnkep_initial_fit_data.pkl', 'rb') as f:\n",
    "    data = pickle.load(f)\n",
    "\n",
    "popt = data['popt']\n",
    "param_bounds = data['param_bounds']\n",
    "jttv = data['jttv']\n",
    "\n",
    "print(popt)\n",
    "print(param_bounds)\n",
    "dir(jttv)"
   ]
  },
  {
   "cell_type": "markdown",
   "id": "1c820c59-fb1d-4bba-89fb-cf55da83fd1b",
   "metadata": {},
   "source": [
    "# Set up and run HMC"
   ]
  },
  {
   "cell_type": "code",
   "execution_count": 6,
   "id": "b150c6c9-9610-4cbe-a812-78283ba99abe",
   "metadata": {},
   "outputs": [],
   "source": [
    "def model_scaled(sample_keys, param_bounds):\n",
    "    \"\"\"numpyro model for scaled parameters\"\"\"\n",
    "    par = {}\n",
    "\n",
    "    # sample parameters from priors\n",
    "    for key in sample_keys:\n",
    "        par[key+\"_scaled\"] = numpyro.sample(key+\"_scaled\", dist.Uniform(param_bounds[key][0]*0, param_bounds[key][0]*0+1.))\n",
    "        par[key] = numpyro.deterministic(key, par[key+\"_scaled\"] * (param_bounds[key][1] - param_bounds[key][0]) + param_bounds[key][0])\n",
    "    if \"pmass\" not in sample_keys:\n",
    "        par[\"pmass\"] = numpyro.deterministic(\"pmass\", jnp.exp(par[\"lnpmass\"]))\n",
    "    \n",
    "    # Jacobian for uniform ecc prior\n",
    "    ecc = numpyro.deterministic(\"ecc\", jnp.sqrt(par['ecosw']**2+par['esinw']**2))\n",
    "    numpyro.factor(\"eprior\", -jnp.log(ecc))\n",
    "\n",
    "    # compute transit times\n",
    "    tcmodel, ediff = jttv.get_transit_times_obs(par)\n",
    "    numpyro.deterministic(\"ediff\", ediff)\n",
    "    numpyro.deterministic(\"tcmodel\", tcmodel)\n",
    "    \n",
    "    # likelihood\n",
    "    tcerrmodel = jttv.errorobs_flatten     \n",
    "    numpyro.sample(\"obs\", dist.Normal(loc=tcmodel, scale=tcerrmodel), obs=jttv.tcobs_flatten)"
   ]
  },
  {
   "cell_type": "code",
   "execution_count": 7,
   "id": "d0127d79-d830-48ab-a2aa-b05c8bbf5eb8",
   "metadata": {},
   "outputs": [],
   "source": [
    "# physical parameters to sample from\n",
    "sample_keys = [\"ecosw\", \"esinw\", \"pmass\", \"period\", \"tic\"] # uniform mass prior"
   ]
  },
  {
   "cell_type": "code",
   "execution_count": 8,
   "id": "b6fc255a-4b70-4781-b057-5bad1da446aa",
   "metadata": {},
   "outputs": [],
   "source": [
    "# scaled parameters\n",
    "pdic_scaled = scale_pdic(popt, param_bounds)"
   ]
  },
  {
   "cell_type": "code",
   "execution_count": 9,
   "id": "a60165dd-9650-4483-a236-e1f86c75daa5",
   "metadata": {},
   "outputs": [],
   "source": [
    "kernel = NUTS(model_scaled, \n",
    "            init_strategy=init_to_value(values=pdic_scaled), \n",
    "            dense_mass=True,\n",
    "            #regularize_mass_matrix=False # this speeds up sampling for unknown reason\n",
    "            )"
   ]
  },
  {
   "cell_type": "code",
   "execution_count": null,
   "id": "dda6d01e-9c5b-41c1-9bb1-a5dd6c2ac202",
   "metadata": {},
   "outputs": [],
   "source": [
    "mcmc = MCMC(kernel, num_warmup=500, num_samples=1500, num_chains=num_chains)"
   ]
  },
  {
   "cell_type": "code",
   "execution_count": null,
   "id": "b29285a3-80f7-4706-b4b7-d25a14fa59d0",
   "metadata": {},
   "outputs": [],
   "source": [
    "# 4hr30min on M1 mac studio\n",
    "rng_key = random.PRNGKey(0)\n",
    "mcmc.run(rng_key, sample_keys, param_bounds, extra_fields=('potential_energy', 'num_steps', 'adapt_state'))"
   ]
  },
  {
   "cell_type": "code",
   "execution_count": null,
   "id": "5de7e713-99f7-4461-8dda-f8185e63e3df",
   "metadata": {},
   "outputs": [],
   "source": [
    "mcmc.print_summary()"
   ]
  },
  {
   "cell_type": "code",
   "execution_count": null,
   "id": "4c6abd3b-d728-46d1-91d9-b9a853fd65e1",
   "metadata": {},
   "outputs": [],
   "source": [
    "# save results\n",
    "import dill\n",
    "with open(\"jnkep_fit_full.pkl\", \"wb\") as f:\n",
    "    dill.dump(mcmc, f)"
   ]
  },
  {
   "cell_type": "markdown",
   "id": "17bf1547-52b1-4610-ad4f-9d996a8ebfce",
   "metadata": {},
   "source": [
    "# Plot models drawn from posteriors"
   ]
  },
  {
   "cell_type": "code",
   "execution_count": null,
   "id": "fed4af13-9da8-4924-a104-b15064a89964",
   "metadata": {},
   "outputs": [],
   "source": [
    "samples = mcmc.get_samples()"
   ]
  },
  {
   "cell_type": "code",
   "execution_count": null,
   "id": "aa3e854c-f4c3-436e-a67b-99422614fb6a",
   "metadata": {},
   "outputs": [],
   "source": [
    "means, stds = jttv.sample_means_and_stds(samples)"
   ]
  },
  {
   "cell_type": "code",
   "execution_count": null,
   "id": "c60b08f9-aa10-4f40-8bb8-92c4cc47e62f",
   "metadata": {},
   "outputs": [],
   "source": [
    "jttv.plot_model(means, tcmodelunclist=stds)"
   ]
  },
  {
   "cell_type": "markdown",
   "id": "4e73432b-8ac4-4daa-8080-b2e3d5107118",
   "metadata": {},
   "source": [
    "# Trace and corner plots"
   ]
  },
  {
   "cell_type": "code",
   "execution_count": null,
   "id": "71f8875d-18f7-4efa-aaf5-5bff47c67744",
   "metadata": {},
   "outputs": [],
   "source": [
    "import arviz as az\n",
    "idata = az.from_numpyro(mcmc)\n",
    "fig = az.plot_trace(mcmc, var_names=sample_keys, compact=False)\n",
    "plt.tight_layout(pad=0.2)"
   ]
  },
  {
   "cell_type": "code",
   "execution_count": null,
   "id": "502acdf5-b115-4161-96a5-f15fef8a097e",
   "metadata": {},
   "outputs": [],
   "source": [
    "idata.posterior['mu'] = idata.posterior['pmass'] / 3.003e-6\n",
    "names = [\"period\", \"tic\", \"ecosw\", \"esinw\", \"mu\"]\n",
    "fig = corner.corner(idata, var_names=names, show_titles=True)"
   ]
  }
 ],
 "metadata": {
  "kernelspec": {
   "display_name": "Python 3 (ipykernel)",
   "language": "python",
   "name": "python3"
  },
  "language_info": {
   "codemirror_mode": {
    "name": "ipython",
    "version": 3
   },
   "file_extension": ".py",
   "mimetype": "text/x-python",
   "name": "python",
   "nbconvert_exporter": "python",
   "pygments_lexer": "ipython3",
   "version": "3.12.7"
  }
 },
 "nbformat": 4,
 "nbformat_minor": 5
}
